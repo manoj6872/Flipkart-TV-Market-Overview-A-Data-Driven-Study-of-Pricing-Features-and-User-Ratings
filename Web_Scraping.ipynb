{
 "cells": [
  {
   "cell_type": "code",
   "execution_count": 1,
   "id": "0e9d5ba9-2aa4-45c9-bf2c-7ef357710105",
   "metadata": {},
   "outputs": [],
   "source": [
    "import numpy as np\n",
    "import requests\n",
    "import re\n",
    "import pandas as pd\n",
    "from bs4 import BeautifulSoup\n",
    "import itertools"
   ]
  },
  {
   "cell_type": "code",
   "execution_count": 2,
   "id": "5f7111ea-55fd-422e-8a01-5cb2e2d9e104",
   "metadata": {},
   "outputs": [],
   "source": [
    "url=\"https://www.flipkart.com/search?q=tv&otracker=search&otracker1=search&marketplace=FLIPKART&as-show=on&as=off\""
   ]
  },
  {
   "cell_type": "code",
   "execution_count": 3,
   "id": "6718cdd8-948e-4c82-87af-6c92c2c43468",
   "metadata": {},
   "outputs": [
    {
     "data": {
      "text/plain": [
       "<Response [403]>"
      ]
     },
     "execution_count": 3,
     "metadata": {},
     "output_type": "execute_result"
    }
   ],
   "source": [
    "data=requests.get(url)\n",
    "data"
   ]
  },
  {
   "cell_type": "code",
   "execution_count": 4,
   "id": "0b47c5e2-3d32-49c7-ac12-67a292b2d8b6",
   "metadata": {},
   "outputs": [
    {
     "data": {
      "text/plain": [
       "'<!DOCTYPE html><html lang=en><meta charset=UTF-8><meta content=\"width=device-width,initial-scale=1\"name=viewport><title>Flipkart reCAPTCHA</title><link href=https://static-assets-web.flixcart.com/batman-returns/batman-returns/s/recaptcha.css rel=stylesheet><script src=\"https://www.google.com/recaptcha/enterprise.js?render=6Lc49B0pAAAAAIVgOhfwW8i7t7SRO0KSnlSVZRAq\"></script><script src=https://static-assets-web.flixcart.com/apex-static/js/recaptcha-enterprise-v1.js async defer></script><div class=container><img alt=\"Flipkart Logo\"class=logo src=\"https://rukminim1.flixcart.com/www/60/60/promos/14/06/2024/88011666-ce1d-40f0-a8eb-1bac7d164885.png?q=60\"><h1 class=header>Are you a human?</h1><p class=subText>Confirming...<div class=loaderContainer><div class=loader></div></div></div>'"
      ]
     },
     "execution_count": 4,
     "metadata": {},
     "output_type": "execute_result"
    }
   ],
   "source": [
    "data.text"
   ]
  },
  {
   "cell_type": "code",
   "execution_count": 5,
   "id": "1ec7412e-ecb9-42c0-9c2a-0a7f8c9cd444",
   "metadata": {},
   "outputs": [],
   "source": [
    "soup=BeautifulSoup(data.text)"
   ]
  },
  {
   "cell_type": "code",
   "execution_count": 6,
   "id": "47c6bcea-ad38-4ae9-8e58-25d14e4889fa",
   "metadata": {
    "scrolled": true
   },
   "outputs": [
    {
     "data": {
      "text/plain": [
       "<!DOCTYPE html>\n",
       "<html lang=\"en\"><head><meta charset=\"utf-8\"/><meta content=\"width=device-width,initial-scale=1\" name=\"viewport\"/><title>Flipkart reCAPTCHA</title><link href=\"https://static-assets-web.flixcart.com/batman-returns/batman-returns/s/recaptcha.css\" rel=\"stylesheet\"/><script src=\"https://www.google.com/recaptcha/enterprise.js?render=6Lc49B0pAAAAAIVgOhfwW8i7t7SRO0KSnlSVZRAq\"></script><script async=\"\" defer=\"\" src=\"https://static-assets-web.flixcart.com/apex-static/js/recaptcha-enterprise-v1.js\"></script></head><body><div class=\"container\"><img alt=\"Flipkart Logo\" class=\"logo\" src=\"https://rukminim1.flixcart.com/www/60/60/promos/14/06/2024/88011666-ce1d-40f0-a8eb-1bac7d164885.png?q=60\"/><h1 class=\"header\">Are you a human?</h1><p class=\"subText\">Confirming...</p><div class=\"loaderContainer\"><div class=\"loader\"></div></div></div></body></html>"
      ]
     },
     "execution_count": 6,
     "metadata": {},
     "output_type": "execute_result"
    }
   ],
   "source": [
    "soup"
   ]
  },
  {
   "cell_type": "code",
   "execution_count": 10,
   "id": "ce612a0e-1faa-4b38-9349-2f2d8f6c7d00",
   "metadata": {},
   "outputs": [
    {
     "data": {
      "text/plain": [
       "[]"
      ]
     },
     "execution_count": 10,
     "metadata": {},
     "output_type": "execute_result"
    }
   ],
   "source": [
    "TV_data=soup.find_all(\"div\",class_=\"KzDlHZ\")\n",
    "TV_data"
   ]
  },
  {
   "cell_type": "code",
   "execution_count": 11,
   "id": "feb25385-95f7-4035-b3a2-701bbd7cf237",
   "metadata": {},
   "outputs": [],
   "source": [
    "for i in TV_data:\n",
    "    print(i.text)"
   ]
  },
  {
   "cell_type": "code",
   "execution_count": 12,
   "id": "17a31efd-d3e1-4747-80c9-7b1381f3c393",
   "metadata": {},
   "outputs": [],
   "source": [
    "brand_name = []\n",
    "screen_size_cm = [] \n",
    "screen_size_inch = []\n",
    "resolution = []\n",
    "screen_type=[]\n",
    "price = []\n",
    "ratings=[]\n",
    "no_of_ratings = []\n",
    "reviews=[]\n",
    "launch_year = []\n",
    "\n",
    "for i in range(1,20):\n",
    "    \n",
    "    for i in soup.find_all(\"div\",class_=\"KzDlHZ\"):\n",
    "        \n",
    "        if re.findall(r\"(^\\w+)\\s\",i.text):\n",
    "            brand_name.append(\"\".join(re.findall(r\"(^\\w+)\\s\",i.text)))\n",
    "        else:\n",
    "            brand_name.append(np.nan)\n",
    "\n",
    "        if re.findall(r\"(\\d+(?:\\.\\d+)?)\\s*cm\\b\",i.text):  \n",
    "            screen_size_cm.append(\"\".join(re.findall(r\"(\\d+(?:\\.\\d+)?)\\s*cm\\b\",i.text)))\n",
    "        else:\n",
    "            screen_size_cm.append(np.nan)\n",
    "\n",
    "        if re.findall(r\"\\((\\d+(?:\\.\\d+)?)\\s*inch\\)\",i.text):\n",
    "            screen_size_inch.append(\"\".join(re.findall(r\"\\((\\d+(?:\\.\\d+)?)\\s*inch\\)\",i.text)))\n",
    "        else:\n",
    "            screen_size_inch.append(np.nan)\n",
    "\n",
    "        if re.findall(r\"(SD|HD Ready|Full HD|Ultra HD \\(4K\\)|\\(8K\\))\",i.text):\n",
    "            resolution.append(\"\".join(re.findall(r\"(SD|HD Ready|Full HD|Ultra HD \\(4K\\)|\\(8K\\))\",i.text)))\n",
    "        else:\n",
    "            resolution.append(np.nan)\n",
    "\n",
    "        if re.findall(r\"(LED|OLED|QLED|Mini LED|Laser)\",i.text):\n",
    "            screen_type.append(\"\".join(re.findall(r\"(OLED|QLED|Mini LED|LED|Laser)\",i.text)))\n",
    "        else:\n",
    "            screen_type.append(np.nan)\n",
    "\n",
    "    for i in soup.find_all(\"div\",class_=\"Nx9bqj _4b5DiR\"):\n",
    "        \n",
    "        if re.findall(r\"^₹([\\d,]+)\",i.text):\n",
    "            price.append(\"\".join(re.findall(r\"^₹([\\d,]+)\",i.text)))\n",
    "        else:\n",
    "            price.append(np.nan)\n",
    "\n",
    "    for i in soup.find_all(\"div\",class_=\"XQDdHH\"):\n",
    "        \n",
    "        if re.findall(r\"(\\d\\.\\d)\",i.text):\n",
    "            ratings.append(\"\".join(re.findall(r\"(\\d\\.\\d)\",i.text)))\n",
    "        else:\n",
    "            ratings.append(np.nan)\n",
    "\n",
    "    for i in soup.find_all(\"span\",class_=\"Wphh3N\"):\n",
    "        \n",
    "        if re.findall(r\"(\\d*[,\\d*]*)\\sRatings\",i.text):             #(\\d*[,\\d*]*)\n",
    "            no_of_ratings.append(\"\".join(re.findall(r\"(\\d*[,\\d*]*)\\sRatings\",i.text)))\n",
    "        else:\n",
    "            no_of_ratings.append(np.nan)\n",
    "\n",
    "       \n",
    "        if re.findall(r\"&\\s(\\d*[,\\d*]*)\\sReviews\",i.text):\n",
    "            reviews.append(\"\".join(re.findall(r\"(\\d*[,\\d*]*)\\sRatings\",i.text)))\n",
    "        else:\n",
    "            reviews.append(np.nan)\n",
    "\n",
    "    for i in soup.find_all(\"div\",class_=\"_6NESgJ\"):\n",
    "        if re.findall(r\"\\d{4}\",i.text):\n",
    "            launch_year.append(\"\".join(re.findall(r\"Launch Year: (\\d{4})\",i.text)))\n",
    "        else:\n",
    "            launch_year.append(np.nan)"
   ]
  },
  {
   "cell_type": "code",
   "execution_count": 13,
   "id": "3f9bb408-13cc-4753-930a-fe20a7bed2a9",
   "metadata": {},
   "outputs": [],
   "source": [
    "# Combine the lists using zip_longest to match the length\n",
    "data = list(itertools.zip_longest(\n",
    "    brand_name, screen_size_cm, screen_size_inch, resolution, screen_type,\n",
    "    price, ratings, no_of_ratings, reviews, launch_year, \n",
    "    fillvalue=np.nan  # Fill missing values with NaN\n",
    "))"
   ]
  },
  {
   "cell_type": "code",
   "execution_count": 14,
   "id": "724554fd-41e7-4912-ab74-400b3a3c1123",
   "metadata": {},
   "outputs": [],
   "source": [
    "df=pd.DataFrame(data,columns=[\n",
    "    'brand_name', 'screen_size_cm', 'screen_size_inch', 'resolution', 'screen_type',\n",
    "    'price', 'ratings', 'no_of_ratings', 'reviews',  'launch_year'\n",
    "])"
   ]
  },
  {
   "cell_type": "code",
   "execution_count": 12,
   "id": "c9feb272-a2af-4013-940d-85e0d027de5d",
   "metadata": {},
   "outputs": [],
   "source": [
    "output_file = \"flipkart_edaproject.csv\"\n",
    "df.to_csv(output_file, index=True)"
   ]
  },
  {
   "cell_type": "code",
   "execution_count": null,
   "id": "4eb06656-6690-421c-b96a-0b2118cc1786",
   "metadata": {},
   "outputs": [],
   "source": []
  },
  {
   "cell_type": "code",
   "execution_count": null,
   "id": "9bdced85-7b4a-4425-8f91-78aef240ac35",
   "metadata": {},
   "outputs": [],
   "source": []
  },
  {
   "cell_type": "code",
   "execution_count": null,
   "id": "a9ad9bf1-c3fb-49b7-85e5-10c3da5f559d",
   "metadata": {},
   "outputs": [],
   "source": []
  }
 ],
 "metadata": {
  "kernelspec": {
   "display_name": "Python 3 (ipykernel)",
   "language": "python",
   "name": "python3"
  },
  "language_info": {
   "codemirror_mode": {
    "name": "ipython",
    "version": 3
   },
   "file_extension": ".py",
   "mimetype": "text/x-python",
   "name": "python",
   "nbconvert_exporter": "python",
   "pygments_lexer": "ipython3",
   "version": "3.12.11"
  }
 },
 "nbformat": 4,
 "nbformat_minor": 5
}
